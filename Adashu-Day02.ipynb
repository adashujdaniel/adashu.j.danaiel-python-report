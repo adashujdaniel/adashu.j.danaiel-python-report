{
 "cells": [
  {
   "cell_type": "markdown",
   "id": "426486dd",
   "metadata": {
    "id": "426486dd"
   },
   "source": [
    "\n",
    "\n",
    "# Practical_1: Variables and Assignments"
   ]
  },
  {
   "cell_type": "markdown",
   "id": "9fb19f0d",
   "metadata": {
    "id": "9fb19f0d"
   },
   "source": [
    "----\n",
    "\n",
    "### Exercise 1:\n",
    "Declare a variable `x` and assign it the value `10`.\n",
    "\n",
    "```python\n",
    "# Exercise 1\n",
    "```\n",
    "\n",
    "---\n",
    "\n",
    "### Exercise 2:\n",
    "Assign the value `True` to a variable called `is_valid`.\n",
    "\n",
    "```python\n",
    "# Exercise 2\n",
    "```\n",
    "\n",
    "---\n",
    "\n",
    "### Exercise 3:\n",
    "Create a string variable `name` with the value \"Python Programming\".\n",
    "\n",
    "```python\n",
    "# Exercise 3\n",
    "```\n",
    "\n",
    "---\n",
    "\n",
    "### Exercise 4:\n",
    "Assign the result of `5 + 3` to a variable `sum_result`.\n",
    "\n",
    "```python\n",
    "# Exercise 4\n",
    "```\n",
    "\n",
    "---\n",
    "\n",
    "### Exercise 5:\n",
    "Assign multiple variables in one line: `a = 5`, `b = 10`, `c = 15`.\n",
    "\n",
    "```python\n",
    "# Exercise 5\n",
    "```\n",
    "\n",
    "---\n",
    "\n",
    "### Exercise 6:\n",
    "Assign the value of one variable `x` to another variable `y`.\n",
    "\n",
    "```python\n",
    "# Exercise 6\n",
    "```\n",
    "\n",
    "---\n",
    "\n",
    "### Exercise 7:\n",
    "Assign a floating-point number `9.8` to a variable `gravity`.\n",
    "\n",
    "```python\n",
    "# Exercise 7\n",
    "```\n",
    "\n",
    "---\n",
    "\n",
    "### Exercise 8:\n",
    "Create a variable `country` and assign it the string value of your favorite country.\n",
    "\n",
    "```python\n",
    "# Exercise 8\n",
    "```\n",
    "\n",
    "---\n",
    "\n",
    "### Exercise 9:\n",
    "Change the value of variable `age` from `25` to `26` in two separate steps.\n",
    "\n",
    "```python\n",
    "# Exercise 9\n",
    "```\n",
    "\n",
    "---\n",
    "\n",
    "### Exercise 10:\n",
    "Use one variable to store the result of subtracting two numbers `20 - 7`.\n",
    "\n",
    "```python\n",
    "# Exercise 10\n",
    "```\n",
    "\n",
    "---\n",
    "\n",
    "### Exercise 11:\n",
    "Assign an integer value and a floating-point value to two different variables.\n",
    "\n",
    "```python\n",
    "# Exercise 11\n",
    "```\n",
    "\n",
    "---\n",
    "\n",
    "### Exercise 12:\n",
    "Assign a boolean value `False` to a variable `is_completed`.\n",
    "\n",
    "```python\n",
    "# Exercise 12\n",
    "```\n",
    "\n",
    "---\n",
    "\n",
    "### Exercise 13:\n",
    "Swap the values of two variables `x` and `y`.\n",
    "\n",
    "```python\n",
    "# Exercise 13\n",
    "```\n",
    "\n",
    "---\n",
    "\n",
    "### Exercise 14:\n",
    "Assign a complex number `3 + 4j` to a variable `complex_num`.\n",
    "\n",
    "```python\n",
    "# Exercise 14\n",
    "```\n",
    "\n",
    "---\n",
    "\n",
    "### Exercise 15:\n",
    "Reassign a variable from an integer to a string.\n",
    "\n",
    "```python\n",
    "# Exercise 15\n",
    "```\n",
    "\n",
    "---\n",
    "\n",
    "### Exercise 16:\n",
    "Create two variables `first_name` and `last_name`, and assign them your first and last names.\n",
    "\n",
    "```python\n",
    "# Exercise 16\n",
    "```\n",
    "\n",
    "---\n",
    "\n",
    "### Exercise 17:\n",
    "Create a variable `temperature` and assign it the value of `35.5`.\n",
    "\n",
    "```python\n",
    "# Exercise 17\n",
    "```\n",
    "\n",
    "---\n",
    "\n",
    "### Exercise 18:\n",
    "Assign the result of the multiplication of two numbers `8 * 6` to a variable `product`.\n",
    "\n",
    "```python\n",
    "# Exercise 18\n",
    "```\n",
    "\n",
    "---\n",
    "\n",
    "### Exercise 19:\n",
    "Assign a sentence of your choice to a variable `sentence`.\n",
    "\n",
    "```python\n",
    "# Exercise 19\n",
    "```\n",
    "\n",
    "---\n",
    "\n",
    "### Exercise 20:\n",
    "Use an assignment to convert a string `'50'` into an integer variable `int_value`.\n",
    "\n",
    "```python\n",
    "# Exercise 20\n",
    "```\n",
    "\n",
    "---\n",
    "\n",
    "### Exercise 21:\n",
    "Assign the result of dividing `144` by `12` to a variable `quotient`.\n",
    "\n",
    "```python\n",
    "# Exercise 21\n",
    "```\n",
    "\n",
    "---\n",
    "\n",
    "### Exercise 22:\n",
    "Assign the remainder of `47 divided by 5` to a variable `remainder`.\n",
    "\n",
    "```python\n",
    "# Exercise 22\n",
    "```\n",
    "\n",
    "---\n",
    "\n",
    "### Exercise 23:\n",
    "Create a variable `is_student` and assign it the value `True`.\n",
    "\n",
    "```python\n",
    "# Exercise 23\n",
    "```\n",
    "\n",
    "---\n",
    "\n",
    "### Exercise 24:\n",
    "Use a variable to store the result of a modulo operation: `45 % 4`.\n",
    "\n",
    "```python\n",
    "# Exercise 24\n",
    "```\n",
    "\n",
    "---\n",
    "\n",
    "### Exercise 25:\n",
    "Create a variable `pi` and assign it the value `3.14159`.\n",
    "\n",
    "```python\n",
    "# Exercise 25\n",
    "```\n",
    "\n",
    "---\n",
    "\n",
    "### Exercise 26:\n",
    "Create two variables `length` and `width`, assign them values, and calculate the area of a rectangle.\n",
    "\n",
    "```python\n",
    "# Exercise 26\n",
    "```\n",
    "\n",
    "---\n",
    "\n",
    "### Exercise 27:\n",
    "Assign a negative number to a variable `negative_value`.\n",
    "\n",
    "```python\n",
    "# Exercise 27\n",
    "```\n",
    "\n",
    "---\n",
    "\n",
    "### Exercise 28:\n",
    "Assign a string containing a special character (e.g., \"Hello, World!\") to a variable `greeting`.\n",
    "\n",
    "```python\n",
    "# Exercise 28\n",
    "```\n",
    "\n",
    "---\n",
    "\n",
    "### Exercise 29:\n",
    "Create a variable `population` and assign it a large integer value (in billions).\n",
    "\n",
    "```python\n",
    "# Exercise 29\n",
    "```\n",
    "\n",
    "---\n",
    "\n",
    "### Exercise 30:\n",
    "Use a variable to store the result of raising `2` to the power of `8`.\n",
    "\n",
    "```python\n",
    "# Exercise 30\n",
    "```\n",
    "\n",
    "---\n",
    "\n",
    "### Exercise 31:\n",
    "Assign a list of your favorite fruits to a variable `fruits`.\n",
    "\n",
    "```python\n",
    "# Exercise 31\n",
    "```\n",
    "\n",
    "---\n",
    "\n",
    "### Exercise 32:\n",
    "Assign a tuple of three numbers to a variable `coordinates`.\n",
    "\n",
    "```python\n",
    "# Exercise 32\n",
    "```\n",
    "\n",
    "---\n",
    "\n",
    "### Exercise 33:\n",
    "Assign a dictionary with keys `name` and `age` to a variable `person`.\n",
    "\n",
    "```python\n",
    "# Exercise 33\n",
    "```\n",
    "\n",
    "---\n",
    "\n",
    "### Exercise 34:\n",
    "Use variables to store the sum of two floating-point numbers.\n",
    "\n",
    "```python\n",
    "# Exercise 34\n",
    "```\n",
    "\n",
    "---\n",
    "\n",
    "### Exercise 35:\n",
    "Create a variable `is_sunny` and assign it the result of a comparison `10 > 5`.\n",
    "\n",
    "```python\n",
    "# Exercise 35\n",
    "```\n",
    "\n",
    "---\n",
    "\n",
    "### Exercise 36:\n",
    "Assign a string and an integer to two different variables, then print both on one line.\n",
    "\n",
    "```python\n",
    "# Exercise 36\n",
    "```\n",
    "\n",
    "---\n",
    "\n",
    "### Exercise 37:\n",
    "Reassign a variable that originally held a number to a boolean value.\n",
    "\n",
    "```python\n",
    "# Exercise 37\n",
    "```\n",
    "\n",
    "---\n",
    "\n",
    "### Exercise 38:\n",
    "Create a variable `is_weekend` and assign it the result of `False`.\n",
    "\n",
    "```python\n",
    "# Exercise 38\n",
    "```\n",
    "\n",
    "---\n",
    "\n",
    "### Exercise 39:\n",
    "Assign a multi-line string to a variable `description`.\n",
    "\n",
    "```python\n",
    "# Exercise 39\n",
    "```\n",
    "\n",
    "---\n",
    "\n",
    "### Exercise 40:\n",
    "Use variables to store the result of the absolute value of `-25`.\n",
    "\n",
    "```python\n",
    "# Exercise 40\n",
    "```\n",
    "\n",
    "---\n",
    "\n",
    "### Exercise 41:\n",
    "Assign the result of a floor division `100 // 6` to a variable `floor_div_result`.\n",
    "\n",
    "```python\n",
    "# Exercise 41\n",
    "```\n",
    "\n",
    "---\n",
    "\n",
    "### Exercise 42:\n",
    "Assign the result of adding a floating-point number to an integer to a variable `mixed_sum`.\n",
    "\n",
    "```python\n",
    "# Exercise 42\n",
    "```\n",
    "\n",
    "---\n",
    "\n",
    "\n",
    "### Exercise 43:\n",
    "Assign a boolean value based on the comparison of two variables `a = 10` and `b = 15`.\n",
    "\n",
    "```python\n",
    "# Exercise 43\n",
    "```\n",
    "\n",
    "---\n",
    "\n",
    "### Exercise 44:\n",
    "Assign a long sentence to a variable and count its characters using `len()`.\n",
    "\n",
    "```python\n",
    "# Exercise 44\n",
    "```\n",
    "\n",
    "---\n",
    "\n",
    "### Exercise 45:\n",
    "Assign a fractional result `7 / 3` to a variable `division_result`.\n",
    "\n",
    "```python\n",
    "# Exercise 45\n",
    "```\n",
    "\n",
    "---\n",
    "\n",
    "### Exercise 46:\n",
    "Create a variable `speed` and assign it the value of 100 kilometers per hour.\n",
    "\n",
    "```python\n",
    "# Exercise 46\n",
    "```\n",
    "\n",
    "---\n",
    "\n",
    "### Exercise 47:\n",
    "Assign a multi-variable equation like `y = 3x + 5` where `x = 4` to a variable `y`.\n",
    "\n",
    "```python\n",
    "# Exercise 47\n",
    "```\n",
    "\n",
    "---\n",
    "\n",
    "### Exercise 48:\n",
    "Use variables to calculate and store the average of three numbers.\n",
    "\n",
    "```python\n",
    "# Exercise 48\n",
    "``\n",
    "****"
   ]
  },
  {
   "cell_type": "code",
   "execution_count": 20,
   "id": "a6d4f835",
   "metadata": {},
   "outputs": [],
   "source": [
    "#Exercise 1:\n",
    "x = 10"
   ]
  },
  {
   "cell_type": "code",
   "execution_count": 21,
   "id": "7f14103b",
   "metadata": {},
   "outputs": [],
   "source": [
    "#Exercise 2:\n",
    "is_valid = True"
   ]
  },
  {
   "cell_type": "code",
   "execution_count": 22,
   "id": "01ac952f",
   "metadata": {},
   "outputs": [],
   "source": [
    "#Exercise 3:\n",
    "Name = \"Python programming\""
   ]
  },
  {
   "cell_type": "code",
   "execution_count": 24,
   "id": "2eaf4122",
   "metadata": {},
   "outputs": [
    {
     "data": {
      "text/plain": [
       "8"
      ]
     },
     "execution_count": 24,
     "metadata": {},
     "output_type": "execute_result"
    }
   ],
   "source": [
    "#Exercise 4:\n",
    "a = 5\n",
    "b = 3\n",
    "sum_result = a + b\n",
    "sum_result"
   ]
  },
  {
   "cell_type": "code",
   "execution_count": 25,
   "id": "c22e27f7",
   "metadata": {},
   "outputs": [],
   "source": [
    "#Exercise 5:\n",
    "a,b,c = 5,10,15"
   ]
  },
  {
   "cell_type": "code",
   "execution_count": 26,
   "id": "87aac218",
   "metadata": {},
   "outputs": [],
   "source": [
    "#Exercise 6:\n",
    "x = 67\n",
    "y = x"
   ]
  },
  {
   "cell_type": "code",
   "execution_count": 27,
   "id": "43a24656",
   "metadata": {},
   "outputs": [],
   "source": [
    "#Exercise 7:\n",
    "gravity = 9.8"
   ]
  },
  {
   "cell_type": "code",
   "execution_count": 28,
   "id": "516957ab",
   "metadata": {},
   "outputs": [],
   "source": [
    "#Exercise 8:\n",
    "country = \"Australia\""
   ]
  },
  {
   "cell_type": "code",
   "execution_count": 29,
   "id": "b0fbc5b1",
   "metadata": {},
   "outputs": [],
   "source": [
    "#Exercise 9:\n",
    "x = 25\n",
    "x = 26"
   ]
  },
  {
   "cell_type": "code",
   "execution_count": 30,
   "id": "24245e12",
   "metadata": {},
   "outputs": [
    {
     "data": {
      "text/plain": [
       "13"
      ]
     },
     "execution_count": 30,
     "metadata": {},
     "output_type": "execute_result"
    }
   ],
   "source": [
    "#Exercise 10:\n",
    "a = 20\n",
    "b = 7\n",
    "d = a - b\n",
    "d"
   ]
  },
  {
   "cell_type": "code",
   "execution_count": 31,
   "id": "77f7e832",
   "metadata": {},
   "outputs": [],
   "source": [
    "#Exercise 11:\n",
    "a = 5\n",
    "b = 6.9"
   ]
  },
  {
   "cell_type": "code",
   "execution_count": 32,
   "id": "d742a205",
   "metadata": {},
   "outputs": [],
   "source": [
    "#Exercise 12:\n",
    "is_completed = False"
   ]
  },
  {
   "cell_type": "code",
   "execution_count": 33,
   "id": "06643aeb",
   "metadata": {},
   "outputs": [],
   "source": [
    "#Exercise 13:\n",
    "x = 5\n",
    "y = 7\n",
    "x = 7\n",
    "y = 5"
   ]
  },
  {
   "cell_type": "code",
   "execution_count": 35,
   "id": "ccdc1306",
   "metadata": {},
   "outputs": [],
   "source": [
    "#Exercise 14:\n",
    "complex_num = 3 + 4j"
   ]
  },
  {
   "cell_type": "code",
   "execution_count": 36,
   "id": "c0ee65b9",
   "metadata": {},
   "outputs": [],
   "source": [
    "#Exercise 15:\n",
    "x = int(5)\n",
    "y = str(x)"
   ]
  },
  {
   "cell_type": "code",
   "execution_count": 37,
   "id": "b933936b",
   "metadata": {},
   "outputs": [],
   "source": [
    "#Exercise 16:\n",
    "first_name = \"Daniel\"\n",
    "last_name = \"Adashu\""
   ]
  },
  {
   "cell_type": "code",
   "execution_count": 38,
   "id": "eecc3cb2",
   "metadata": {},
   "outputs": [],
   "source": [
    "#Exercise 17:\n",
    "temperature = 35.5"
   ]
  },
  {
   "cell_type": "code",
   "execution_count": 40,
   "id": "a5483cf7",
   "metadata": {},
   "outputs": [
    {
     "data": {
      "text/plain": [
       "48"
      ]
     },
     "execution_count": 40,
     "metadata": {},
     "output_type": "execute_result"
    }
   ],
   "source": [
    "#Exercise 18:\n",
    "a = 6 \n",
    "b = 8\n",
    "product = b * a\n",
    "product"
   ]
  },
  {
   "cell_type": "code",
   "execution_count": 41,
   "id": "bc0db945",
   "metadata": {},
   "outputs": [],
   "source": [
    "#Exercise 19:\n",
    "Vision = \"The ability to see life beyond the present\""
   ]
  },
  {
   "cell_type": "code",
   "execution_count": 42,
   "id": "634c08b9",
   "metadata": {},
   "outputs": [],
   "source": [
    "#Exercise 20:\n",
    "x = str(50)\n",
    "int_value = int(x)"
   ]
  },
  {
   "cell_type": "code",
   "execution_count": 44,
   "id": "c251b8cd",
   "metadata": {},
   "outputs": [
    {
     "data": {
      "text/plain": [
       "12.0"
      ]
     },
     "execution_count": 44,
     "metadata": {},
     "output_type": "execute_result"
    }
   ],
   "source": [
    "#Exercise 21:\n",
    "a = 144\n",
    "b = 12 \n",
    "qoutient = a / b\n",
    "qoutient"
   ]
  },
  {
   "cell_type": "code",
   "execution_count": 45,
   "id": "20480a29",
   "metadata": {},
   "outputs": [
    {
     "data": {
      "text/plain": [
       "9.4"
      ]
     },
     "execution_count": 45,
     "metadata": {},
     "output_type": "execute_result"
    }
   ],
   "source": [
    "#Exercise 22:\n",
    "x = 5\n",
    "y = 47\n",
    "qoutient  = y / x\n",
    "remainder = float(qoutient)\n",
    "remainder"
   ]
  },
  {
   "cell_type": "code",
   "execution_count": 47,
   "id": "97ff4e13",
   "metadata": {},
   "outputs": [],
   "source": [
    "#Exercise 23:\n",
    "is_student = True"
   ]
  },
  {
   "cell_type": "code",
   "execution_count": 48,
   "id": "41257785",
   "metadata": {},
   "outputs": [],
   "source": [
    "#Exercise 24:\n",
    "x = 45\n",
    "y = 4 \n",
    "modulo = x % y"
   ]
  },
  {
   "cell_type": "code",
   "execution_count": 49,
   "id": "33c95d51",
   "metadata": {},
   "outputs": [],
   "source": [
    "#Exercise 25:\n",
    "pi = 3.14159"
   ]
  },
  {
   "cell_type": "code",
   "execution_count": 50,
   "id": "615b212b",
   "metadata": {},
   "outputs": [
    {
     "name": "stdout",
     "output_type": "stream",
     "text": [
      "Enter length: 56\n",
      "Enter width: 67\n"
     ]
    },
    {
     "data": {
      "text/plain": [
       "3752"
      ]
     },
     "execution_count": 50,
     "metadata": {},
     "output_type": "execute_result"
    }
   ],
   "source": [
    "#Exercise 26:\n",
    "length = int(input(\"Enter length: \"))\n",
    "width = int(input(\"Enter width: \"))\n",
    "area_of_rectangle = length * width\n",
    "area_of_rectangle"
   ]
  },
  {
   "cell_type": "code",
   "execution_count": 51,
   "id": "d802584c",
   "metadata": {},
   "outputs": [],
   "source": [
    "#Exercise 27:\n",
    "negative_value = -89"
   ]
  },
  {
   "cell_type": "code",
   "execution_count": 52,
   "id": "445ab89e",
   "metadata": {},
   "outputs": [],
   "source": [
    "#Exercise 28:\n",
    "greeting = \"Hello, World!\""
   ]
  },
  {
   "cell_type": "code",
   "execution_count": 53,
   "id": "ffa43cd5",
   "metadata": {},
   "outputs": [],
   "source": [
    "#Exercise 29:\n",
    "population = 8 * (10**9)"
   ]
  },
  {
   "cell_type": "code",
   "execution_count": 58,
   "id": "d90a98b1",
   "metadata": {},
   "outputs": [
    {
     "data": {
      "text/plain": [
       "256"
      ]
     },
     "execution_count": 58,
     "metadata": {},
     "output_type": "execute_result"
    }
   ],
   "source": [
    "#Exercise 30:\n",
    "k = 2**8\n",
    "k"
   ]
  },
  {
   "cell_type": "code",
   "execution_count": 61,
   "id": "c1933b79",
   "metadata": {},
   "outputs": [
    {
     "data": {
      "text/plain": [
       "['Apple', 'Orangle', 'Mangoe', 'Cashew']"
      ]
     },
     "execution_count": 61,
     "metadata": {},
     "output_type": "execute_result"
    }
   ],
   "source": [
    "#Exercise 31:\n",
    "fruits = [\"Apple\", \"Orangle\", \"Mangoe\", \"Cashew\"]\n",
    "fruits"
   ]
  },
  {
   "cell_type": "code",
   "execution_count": 62,
   "id": "3f62909a",
   "metadata": {},
   "outputs": [],
   "source": [
    "#Exercise 32:\n",
    "coordinates = (\"4\", \"5\", \"7\")"
   ]
  },
  {
   "cell_type": "code",
   "execution_count": 63,
   "id": "e40077bd",
   "metadata": {},
   "outputs": [
    {
     "data": {
      "text/plain": [
       "{'Name': 'Daniel', 'Age': '27'}"
      ]
     },
     "execution_count": 63,
     "metadata": {},
     "output_type": "execute_result"
    }
   ],
   "source": [
    "#Exercise 33:\n",
    "person = {\"Name\":\"Daniel\", \"Age\":\"27\"}\n",
    "person"
   ]
  },
  {
   "cell_type": "code",
   "execution_count": 64,
   "id": "4cb52863",
   "metadata": {},
   "outputs": [
    {
     "data": {
      "text/plain": [
       "11.3"
      ]
     },
     "execution_count": 64,
     "metadata": {},
     "output_type": "execute_result"
    }
   ],
   "source": [
    "#Exercise 34:\n",
    "a = 4.5\n",
    "b = 6.8\n",
    "x = a + b\n",
    "x"
   ]
  },
  {
   "cell_type": "code",
   "execution_count": 65,
   "id": "8f0aee68",
   "metadata": {},
   "outputs": [],
   "source": [
    "#Exercise 35:\n",
    "is_sunny = 10 > 5"
   ]
  },
  {
   "cell_type": "code",
   "execution_count": 66,
   "id": "f3d842ef",
   "metadata": {},
   "outputs": [
    {
     "name": "stdout",
     "output_type": "stream",
     "text": [
      "Name 7\n"
     ]
    }
   ],
   "source": [
    "#Exercise 36:\n",
    "x = \"Name\" \n",
    "y = int(7)\n",
    "print(x,y)"
   ]
  },
  {
   "cell_type": "code",
   "execution_count": 67,
   "id": "b67300e5",
   "metadata": {},
   "outputs": [],
   "source": [
    "#Exercise 37:\n",
    "z = 11 \n",
    "z = 10 < 4"
   ]
  },
  {
   "cell_type": "code",
   "execution_count": 68,
   "id": "bd734334",
   "metadata": {},
   "outputs": [],
   "source": [
    "#Exercise 38:\n",
    "is_weekend = False"
   ]
  },
  {
   "cell_type": "code",
   "execution_count": 69,
   "id": "5ecf8856",
   "metadata": {},
   "outputs": [],
   "source": [
    "#Exercise 39:\n",
    "Description = \"\"\"He is tall\n",
    "                she is short\n",
    "                he is African\"\"\""
   ]
  },
  {
   "cell_type": "code",
   "execution_count": 70,
   "id": "c3d9db85",
   "metadata": {},
   "outputs": [],
   "source": [
    "#Exercise 40:\n",
    "x = abs(-25)"
   ]
  },
  {
   "cell_type": "code",
   "execution_count": 71,
   "id": "00070476",
   "metadata": {},
   "outputs": [],
   "source": [
    "#Exercise 41:\n",
    "floor_div_result = 100 // 6"
   ]
  },
  {
   "cell_type": "code",
   "execution_count": 72,
   "id": "6c937971",
   "metadata": {},
   "outputs": [],
   "source": [
    "#Exercise 42:\n",
    "a = 6.7\n",
    "b = 5\n",
    "mixed_sum = a + b"
   ]
  },
  {
   "cell_type": "code",
   "execution_count": 73,
   "id": "1246dc85",
   "metadata": {},
   "outputs": [],
   "source": [
    "#Exercise 43:\n",
    "a = 10\n",
    "b = 15\n",
    "c = 15 > 10"
   ]
  },
  {
   "cell_type": "code",
   "execution_count": 74,
   "id": "94aef8ba",
   "metadata": {},
   "outputs": [
    {
     "data": {
      "text/plain": [
       "55"
      ]
     },
     "execution_count": 74,
     "metadata": {},
     "output_type": "execute_result"
    }
   ],
   "source": [
    "#Exercise 44:\n",
    "axiom = \"is a valid argument that is always accepted to be truth\"\n",
    "len(axiom)"
   ]
  },
  {
   "cell_type": "code",
   "execution_count": 75,
   "id": "e769723b",
   "metadata": {},
   "outputs": [],
   "source": [
    "#Exercise 45:\n",
    "divion_result = 7 / 3"
   ]
  },
  {
   "cell_type": "code",
   "execution_count": 77,
   "id": "db31deaf",
   "metadata": {},
   "outputs": [
    {
     "data": {
      "text/plain": [
       "27.77777777777778"
      ]
     },
     "execution_count": 77,
     "metadata": {},
     "output_type": "execute_result"
    }
   ],
   "source": [
    "#Exercise 46:\n",
    "km = 1000\n",
    "hr = 3600\n",
    "speed = (100*km)/hr\n",
    "speed"
   ]
  },
  {
   "cell_type": "code",
   "execution_count": 78,
   "id": "b696f57d",
   "metadata": {},
   "outputs": [
    {
     "data": {
      "text/plain": [
       "17"
      ]
     },
     "execution_count": 78,
     "metadata": {},
     "output_type": "execute_result"
    }
   ],
   "source": [
    "#Exercise 47:\n",
    "x = 4\n",
    "y = 3*x + 5\n",
    "y"
   ]
  },
  {
   "cell_type": "code",
   "execution_count": 18,
   "id": "5c6dfd48",
   "metadata": {},
   "outputs": [],
   "source": [
    "#Exercise 48:\n",
    "a = 5 \n",
    "b = 6\n",
    "c = 9\n",
    "average = (a + b +c)/3"
   ]
  },
  {
   "cell_type": "code",
   "execution_count": null,
   "id": "04989f76",
   "metadata": {},
   "outputs": [],
   "source": []
  }
 ],
 "metadata": {
  "colab": {
   "provenance": []
  },
  "kernelspec": {
   "display_name": "Python 3 (ipykernel)",
   "language": "python",
   "name": "python3"
  },
  "language_info": {
   "codemirror_mode": {
    "name": "ipython",
    "version": 3
   },
   "file_extension": ".py",
   "mimetype": "text/x-python",
   "name": "python",
   "nbconvert_exporter": "python",
   "pygments_lexer": "ipython3",
   "version": "3.10.12"
  }
 },
 "nbformat": 4,
 "nbformat_minor": 5
}
